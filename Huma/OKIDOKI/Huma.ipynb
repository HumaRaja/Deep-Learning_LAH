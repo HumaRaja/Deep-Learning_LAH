{
  "cells": [
    {
      "cell_type": "code",
      "execution_count": 1,
      "metadata": {
        "id": "WzolC-X4ZPI2"
      },
      "outputs": [
        {
          "name": "stdout",
          "output_type": "stream",
          "text": [
            "Note: you may need to restart the kernel to use updated packages.\n"
          ]
        },
        {
          "name": "stderr",
          "output_type": "stream",
          "text": [
            "ERROR: pip's dependency resolver does not currently take into account all the packages that are installed. This behaviour is the source of the following dependency conflicts.\n",
            "tensorflow-intel 2.17.0 requires numpy<2.0.0,>=1.23.5; python_version <= \"3.11\", but you have numpy 2.0.2 which is incompatible.\n"
          ]
        }
      ],
      "source": [
        "# Install fastbook\n",
        "%pip install -Uqq fastbook"
      ]
    },
    {
      "cell_type": "code",
      "execution_count": null,
      "metadata": {
        "colab": {
          "base_uri": "https://localhost:8080/",
          "height": 1000
        },
        "id": "9w5njvgoY5wR",
        "outputId": "28b31f90-7ffd-4eb3-f42b-7b534890b4ea"
      },
      "outputs": [
        {
          "name": "stderr",
          "output_type": "stream",
          "text": [
            "Exception ignored in: <bound method IPythonKernel._clean_thread_parent_frames of <ipykernel.ipkernel.IPythonKernel object at 0x00000190F3CF0DD0>>\n",
            "Traceback (most recent call last):\n",
            "  File \"c:\\3ITF\\Deep learning\\project\\Deep-Learning_LAH\\project_env\\Lib\\site-packages\\ipykernel\\ipkernel.py\", line 775, in _clean_thread_parent_frames\n",
            "    def _clean_thread_parent_frames(\n",
            "\n",
            "KeyboardInterrupt: \n"
          ]
        }
      ],
      "source": [
        "# Importeer de nodige bibliotheken\n",
        "import fastbook\n",
        "from fastai.vision.all import *\n",
        "from fastai.vision.widgets import *\n",
        "\n",
        "# Definieer het pad naar de afbeeldingen\n",
        "path = Path('../../Screenshots')  # Zorg ervoor dat dit een Path object is\n",
        "\n",
        "# Lijst van afbeeldingsbestanden\n",
        "filenames = get_image_files(path)\n",
        "print(f\"Totale afbeeldingen gevonden: {len(filenames)}\")\n",
        "\n",
        "# Controleer of de afbeeldingen correct worden gelezen\n",
        "for filename in filenames:\n",
        "    print(filename)  # Print de bestandsnamen om te controleren of ze correct worden geladen\n",
        "\n",
        "# Verifieer de afbeeldingen\n",
        "failed = verify_images(filenames)\n",
        "print(f\"Mislukte afbeeldingen: {failed}\")\n",
        "\n",
        "# Aangepaste labelfunctie om labels uit de mapnamen te halen\n",
        "def label_func(fname):\n",
        "    return fname.parent.name  # Dit haalt de mapnaam op als label\n",
        "\n",
        "# Maak DataLoaders aan met behulp van een DataBlock\n",
        "customDataset = DataBlock(\n",
        "    blocks=(ImageBlock, CategoryBlock),  # Geef afbeeldings- en categoriale types op\n",
        "    get_items=get_image_files,            # Functie om alle afbeeldingsbestanden te krijgen\n",
        "    splitter=RandomSplitter(valid_pct=0.2, seed=42),  # Splits data in train- en validatiesets\n",
        "    get_y=label_func,                     # Gebruik de labelfunctie die hierboven is gedefinieerd\n",
        "    item_tfms=Resize(128)                 # Wijzig de grootte van afbeeldingen naar 128x128\n",
        ")\n",
        "\n",
        "# Laad de DataLoaders\n",
        "dls = customDataset.dataloaders(path)\n",
        "\n",
        "# Controleer of DataLoaders correct zijn aangemaakt\n",
        "print(f\"Aantal trainingsbatches: {len(dls.train)}\")\n",
        "print(f\"Aantal validatiebatches: {len(dls.valid)}\")\n",
        "\n",
        "# Snelle controle van de data\n",
        "if len(dls.train) > 0:\n",
        "    dls.train.show_batch(max_n=4, nrows=1)\n",
        "else:\n",
        "    print(\"Geen trainingsbatches beschikbaar.\")\n",
        "\n",
        "# Maak een convolutioneel neuraal netwerk aan met behulp van transfer learning\n",
        "our_out_of_the_box_model = vision_learner(dls, resnet50, metrics=error_rate)\n",
        "our_out_of_the_box_model.fine_tune(3)\n",
        "\n",
        "# Interpretatie van de resultaten\n",
        "interp = ClassificationInterpretation.from_learner(our_out_of_the_box_model)\n",
        "interp.plot_confusion_matrix()\n",
        "interp.plot_top_losses(5, nrows=1)\n",
        "\n",
        "# Opslaan van het model\n",
        "our_out_of_the_box_model.save('first_model')\n",
        "our_out_of_the_box_model.export()\n",
        "\n",
        "# **Model laden & inferentie:**\n",
        "our_out_of_the_box_model_inference = load_learner('export.pkl')\n",
        "\n",
        "# Test het model op een afbeelding\n",
        "predictions = our_out_of_the_box_model_inference.predict(Path(path) / 'q/q1.png')  # Voorbeeld voor de map 'q'\n",
        "print(predictions)\n",
        "\n"
      ]
    },
    {
      "cell_type": "code",
      "execution_count": 11,
      "metadata": {},
      "outputs": [
        {
          "name": "stdout",
          "output_type": "stream",
          "text": [
            "Collecting mss\n",
            "  Obtaining dependency information for mss from https://files.pythonhosted.org/packages/b8/ce/a27f12f03decd8e6d30d3c595671b8dba32e9c33255749eb59a163e8c95c/mss-9.0.2-py3-none-any.whl.metadata\n",
            "  Downloading mss-9.0.2-py3-none-any.whl.metadata (6.1 kB)\n",
            "Downloading mss-9.0.2-py3-none-any.whl (23 kB)\n",
            "Installing collected packages: mss\n",
            "Successfully installed mss-9.0.2\n",
            "Note: you may need to restart the kernel to use updated packages.\n"
          ]
        },
        {
          "name": "stderr",
          "output_type": "stream",
          "text": [
            "\n",
            "[notice] A new release of pip is available: 23.2.1 -> 24.2\n",
            "[notice] To update, run: python.exe -m pip install --upgrade pip\n"
          ]
        }
      ],
      "source": [
        "pip install mss\n"
      ]
    },
    {
      "cell_type": "code",
      "execution_count": 24,
      "metadata": {},
      "outputs": [
        {
          "data": {
            "text/html": [
              "\n",
              "<style>\n",
              "    /* Turns off some styling */\n",
              "    progress {\n",
              "        /* gets rid of default border in Firefox and Opera. */\n",
              "        border: none;\n",
              "        /* Needs to be in here for Safari polyfill so background images work as expected. */\n",
              "        background-size: auto;\n",
              "    }\n",
              "    progress:not([value]), progress:not([value])::-webkit-progress-bar {\n",
              "        background: repeating-linear-gradient(45deg, #7e7e7e, #7e7e7e 10px, #5c5c5c 10px, #5c5c5c 20px);\n",
              "    }\n",
              "    .progress-bar-interrupted, .progress-bar-interrupted::-webkit-progress-bar {\n",
              "        background: #F44336;\n",
              "    }\n",
              "</style>\n"
            ],
            "text/plain": [
              "<IPython.core.display.HTML object>"
            ]
          },
          "metadata": {},
          "output_type": "display_data"
        },
        {
          "data": {
            "text/html": [],
            "text/plain": [
              "<IPython.core.display.HTML object>"
            ]
          },
          "metadata": {},
          "output_type": "display_data"
        },
        {
          "name": "stderr",
          "output_type": "stream",
          "text": [
            "INFO:root:Voorspelling: d, Index: 0, Waarschijnlijkheden: tensor([0.9318, 0.0185, 0.0497])\n",
            "INFO:root:Toets 'd' ingedrukt voor naar rechts.\n"
          ]
        },
        {
          "data": {
            "text/html": [
              "\n",
              "<style>\n",
              "    /* Turns off some styling */\n",
              "    progress {\n",
              "        /* gets rid of default border in Firefox and Opera. */\n",
              "        border: none;\n",
              "        /* Needs to be in here for Safari polyfill so background images work as expected. */\n",
              "        background-size: auto;\n",
              "    }\n",
              "    progress:not([value]), progress:not([value])::-webkit-progress-bar {\n",
              "        background: repeating-linear-gradient(45deg, #7e7e7e, #7e7e7e 10px, #5c5c5c 10px, #5c5c5c 20px);\n",
              "    }\n",
              "    .progress-bar-interrupted, .progress-bar-interrupted::-webkit-progress-bar {\n",
              "        background: #F44336;\n",
              "    }\n",
              "</style>\n"
            ],
            "text/plain": [
              "<IPython.core.display.HTML object>"
            ]
          },
          "metadata": {},
          "output_type": "display_data"
        },
        {
          "data": {
            "text/html": [],
            "text/plain": [
              "<IPython.core.display.HTML object>"
            ]
          },
          "metadata": {},
          "output_type": "display_data"
        },
        {
          "name": "stderr",
          "output_type": "stream",
          "text": [
            "INFO:root:Voorspelling: d, Index: 0, Waarschijnlijkheden: tensor([0.9203, 0.0300, 0.0497])\n",
            "INFO:root:Toets 'd' ingedrukt voor naar rechts.\n"
          ]
        },
        {
          "data": {
            "text/html": [
              "\n",
              "<style>\n",
              "    /* Turns off some styling */\n",
              "    progress {\n",
              "        /* gets rid of default border in Firefox and Opera. */\n",
              "        border: none;\n",
              "        /* Needs to be in here for Safari polyfill so background images work as expected. */\n",
              "        background-size: auto;\n",
              "    }\n",
              "    progress:not([value]), progress:not([value])::-webkit-progress-bar {\n",
              "        background: repeating-linear-gradient(45deg, #7e7e7e, #7e7e7e 10px, #5c5c5c 10px, #5c5c5c 20px);\n",
              "    }\n",
              "    .progress-bar-interrupted, .progress-bar-interrupted::-webkit-progress-bar {\n",
              "        background: #F44336;\n",
              "    }\n",
              "</style>\n"
            ],
            "text/plain": [
              "<IPython.core.display.HTML object>"
            ]
          },
          "metadata": {},
          "output_type": "display_data"
        },
        {
          "data": {
            "text/html": [],
            "text/plain": [
              "<IPython.core.display.HTML object>"
            ]
          },
          "metadata": {},
          "output_type": "display_data"
        },
        {
          "name": "stderr",
          "output_type": "stream",
          "text": [
            "INFO:root:Voorspelling: d, Index: 0, Waarschijnlijkheden: tensor([0.6878, 0.1216, 0.1906])\n",
            "INFO:root:Toets 'd' ingedrukt voor naar rechts.\n"
          ]
        },
        {
          "data": {
            "text/html": [
              "\n",
              "<style>\n",
              "    /* Turns off some styling */\n",
              "    progress {\n",
              "        /* gets rid of default border in Firefox and Opera. */\n",
              "        border: none;\n",
              "        /* Needs to be in here for Safari polyfill so background images work as expected. */\n",
              "        background-size: auto;\n",
              "    }\n",
              "    progress:not([value]), progress:not([value])::-webkit-progress-bar {\n",
              "        background: repeating-linear-gradient(45deg, #7e7e7e, #7e7e7e 10px, #5c5c5c 10px, #5c5c5c 20px);\n",
              "    }\n",
              "    .progress-bar-interrupted, .progress-bar-interrupted::-webkit-progress-bar {\n",
              "        background: #F44336;\n",
              "    }\n",
              "</style>\n"
            ],
            "text/plain": [
              "<IPython.core.display.HTML object>"
            ]
          },
          "metadata": {},
          "output_type": "display_data"
        },
        {
          "data": {
            "text/html": [],
            "text/plain": [
              "<IPython.core.display.HTML object>"
            ]
          },
          "metadata": {},
          "output_type": "display_data"
        },
        {
          "name": "stderr",
          "output_type": "stream",
          "text": [
            "INFO:root:Voorspelling: d, Index: 0, Waarschijnlijkheden: tensor([0.7002, 0.1132, 0.1866])\n",
            "INFO:root:Toets 'd' ingedrukt voor naar rechts.\n"
          ]
        },
        {
          "data": {
            "text/html": [
              "\n",
              "<style>\n",
              "    /* Turns off some styling */\n",
              "    progress {\n",
              "        /* gets rid of default border in Firefox and Opera. */\n",
              "        border: none;\n",
              "        /* Needs to be in here for Safari polyfill so background images work as expected. */\n",
              "        background-size: auto;\n",
              "    }\n",
              "    progress:not([value]), progress:not([value])::-webkit-progress-bar {\n",
              "        background: repeating-linear-gradient(45deg, #7e7e7e, #7e7e7e 10px, #5c5c5c 10px, #5c5c5c 20px);\n",
              "    }\n",
              "    .progress-bar-interrupted, .progress-bar-interrupted::-webkit-progress-bar {\n",
              "        background: #F44336;\n",
              "    }\n",
              "</style>\n"
            ],
            "text/plain": [
              "<IPython.core.display.HTML object>"
            ]
          },
          "metadata": {},
          "output_type": "display_data"
        },
        {
          "data": {
            "text/html": [
              "\n",
              "    <div>\n",
              "      <progress value='0' class='' max='1' style='width:300px; height:20px; vertical-align: middle;'></progress>\n",
              "      0.00% [0/1 00:00&lt;?]\n",
              "    </div>\n",
              "    "
            ],
            "text/plain": [
              "<IPython.core.display.HTML object>"
            ]
          },
          "metadata": {},
          "output_type": "display_data"
        },
        {
          "name": "stderr",
          "output_type": "stream",
          "text": [
            "INFO:root:Programma gestopt door de gebruiker.\n"
          ]
        }
      ],
      "source": [
        "# Importeer de nodige bibliotheken\n",
        "import fastbook\n",
        "from fastai.vision.all import *\n",
        "from fastai.vision.widgets import *\n",
        "import mss\n",
        "import numpy as np\n",
        "from PIL import Image\n",
        "import time\n",
        "import pyautogui  # Voeg pyautogui toe om toetsenborden aan te sturen\n",
        "import logging  # Voeg logging toe\n",
        "\n",
        "# Configureer logging\n",
        "logging.basicConfig(level=logging.INFO)\n",
        "\n",
        "# Laden van het getrainde model\n",
        "our_out_of_the_box_model_inference = load_learner('export.pkl')\n",
        "\n",
        "# Functie om het scherm vast te leggen\n",
        "def capture_screen():\n",
        "    with mss.mss() as sct:\n",
        "        monitor = sct.monitors[1]  # Neem het eerste scherm, pas dit aan als je een ander scherm wilt\n",
        "        screenshot = sct.grab(monitor)\n",
        "        img = Image.frombytes('RGB', screenshot.size, screenshot.rgb)  # Zet het om naar een PIL afbeelding\n",
        "        return img\n",
        "\n",
        "# Functie om het model te laten voorspellen welke richting te nemen\n",
        "def predict_direction(image):\n",
        "    image = PILImage.create(image)  # Converteer naar een PILImage dat compatibel is met fastai\n",
        "    pred, pred_idx, probs = our_out_of_the_box_model_inference.predict(image)\n",
        "    \n",
        "    # Debug output om de voorspelling en waarschijnlijkheden weer te geven\n",
        "    logging.info(f\"Voorspelling: {pred}, Index: {pred_idx}, Waarschijnlijkheden: {probs}\")\n",
        "    \n",
        "    return pred, pred_idx, probs  # Teruggeven van de voorspelling, index en waarschijnlijkheden\n",
        "\n",
        "# Functie om het juiste toetsenbordcommando te sturen\n",
        "def send_command(direction):\n",
        "    # Hier kun je de richting omzetten naar de corresponderende toets\n",
        "    if direction == 'z':   # Pas deze labels aan op basis van je model's voorspelling\n",
        "        pyautogui.press('z')  # 'z' voor omhoog\n",
        "        logging.info(\"Toets 'z' ingedrukt voor omhoog.\")\n",
        "    elif direction == 'down':\n",
        "        pyautogui.press('down')  # 'down' voor omlaag\n",
        "        logging.info(\"Toets 'down' ingedrukt voor omlaag.\")\n",
        "    elif direction == 'q':\n",
        "        pyautogui.press('q')  # 'q' voor naar links\n",
        "        logging.info(\"Toets 'q' ingedrukt voor naar links.\")\n",
        "    elif direction == 'd':\n",
        "        pyautogui.press('d')  # 'd' voor naar rechts\n",
        "        logging.info(\"Toets 'd' ingedrukt voor naar rechts.\")\n",
        "    else:\n",
        "        logging.warning(f\"Geen bekende richting: {direction}\")\n",
        "\n",
        "# Continu screen capturing en voorspellingen uitvoeren\n",
        "try:\n",
        "    last_time = time.time()  # Timer initialisatiedddddddd\n",
        "    while True:\n",
        "        current_time = time.time()\n",
        "        if current_time - last_time >= 1:  # Elke seconde voorspellingen doen\n",
        "            # Neem een screenshot\n",
        "            screen_image = capture_screen()\n",
        "\n",
        "            # Maak een voorspelling met het model\n",
        "            direction, pred_idx, probabilities = predict_direction(screen_image)\n",
        "            \n",
        "            # Stuur het commando naar het toetsenbord\n",
        "            send_command(direction)\n",
        "\n",
        "            last_time = current_time  # Update de timer\n",
        "\n",
        "except KeyboardInterrupt:\n",
        "    logging.info(\"Programma gestopt door de gebruiker.\")\n"
      ]
    }
  ],
  "metadata": {
    "colab": {
      "provenance": []
    },
    "kernelspec": {
      "display_name": "project_env",
      "language": "python",
      "name": "python3"
    },
    "language_info": {
      "codemirror_mode": {
        "name": "ipython",
        "version": 3
      },
      "file_extension": ".py",
      "mimetype": "text/x-python",
      "name": "python",
      "nbconvert_exporter": "python",
      "pygments_lexer": "ipython3",
      "version": "3.11.0"
    }
  },
  "nbformat": 4,
  "nbformat_minor": 0
}
