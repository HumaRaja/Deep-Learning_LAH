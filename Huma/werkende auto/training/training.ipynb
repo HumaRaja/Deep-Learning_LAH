{
 "cells": [
  {
   "cell_type": "code",
   "execution_count": 6,
   "metadata": {},
   "outputs": [
    {
     "name": "stdout",
     "output_type": "stream",
     "text": [
      "Requirement already satisfied: fastai in c:\\users\\huma raja\\desktop\\thomas more\\2024-2025(3ai)\\semester 1\\deep learning\\autonomous-driving-trackmania\\project_env\\lib\\site-packages (2.7.17)\n",
      "Requirement already satisfied: pip in c:\\users\\huma raja\\desktop\\thomas more\\2024-2025(3ai)\\semester 1\\deep learning\\autonomous-driving-trackmania\\project_env\\lib\\site-packages (from fastai) (23.2.1)\n",
      "Requirement already satisfied: packaging in c:\\users\\huma raja\\desktop\\thomas more\\2024-2025(3ai)\\semester 1\\deep learning\\autonomous-driving-trackmania\\project_env\\lib\\site-packages (from fastai) (24.1)\n",
      "Requirement already satisfied: fastdownload<2,>=0.0.5 in c:\\users\\huma raja\\desktop\\thomas more\\2024-2025(3ai)\\semester 1\\deep learning\\autonomous-driving-trackmania\\project_env\\lib\\site-packages (from fastai) (0.0.7)\n",
      "Requirement already satisfied: fastcore<1.8,>=1.5.29 in c:\\users\\huma raja\\desktop\\thomas more\\2024-2025(3ai)\\semester 1\\deep learning\\autonomous-driving-trackmania\\project_env\\lib\\site-packages (from fastai) (1.7.10)\n",
      "Requirement already satisfied: torchvision>=0.11 in c:\\users\\huma raja\\desktop\\thomas more\\2024-2025(3ai)\\semester 1\\deep learning\\autonomous-driving-trackmania\\project_env\\lib\\site-packages (from fastai) (0.19.1)\n",
      "Requirement already satisfied: matplotlib in c:\\users\\huma raja\\desktop\\thomas more\\2024-2025(3ai)\\semester 1\\deep learning\\autonomous-driving-trackmania\\project_env\\lib\\site-packages (from fastai) (3.9.2)\n",
      "Requirement already satisfied: pandas in c:\\users\\huma raja\\desktop\\thomas more\\2024-2025(3ai)\\semester 1\\deep learning\\autonomous-driving-trackmania\\project_env\\lib\\site-packages (from fastai) (2.2.3)\n",
      "Requirement already satisfied: requests in c:\\users\\huma raja\\desktop\\thomas more\\2024-2025(3ai)\\semester 1\\deep learning\\autonomous-driving-trackmania\\project_env\\lib\\site-packages (from fastai) (2.32.3)\n",
      "Requirement already satisfied: pyyaml in c:\\users\\huma raja\\desktop\\thomas more\\2024-2025(3ai)\\semester 1\\deep learning\\autonomous-driving-trackmania\\project_env\\lib\\site-packages (from fastai) (6.0.2)\n",
      "Requirement already satisfied: fastprogress>=0.2.4 in c:\\users\\huma raja\\desktop\\thomas more\\2024-2025(3ai)\\semester 1\\deep learning\\autonomous-driving-trackmania\\project_env\\lib\\site-packages (from fastai) (1.0.3)\n",
      "Requirement already satisfied: pillow>=9.0.0 in c:\\users\\huma raja\\desktop\\thomas more\\2024-2025(3ai)\\semester 1\\deep learning\\autonomous-driving-trackmania\\project_env\\lib\\site-packages (from fastai) (10.4.0)\n",
      "Requirement already satisfied: scikit-learn in c:\\users\\huma raja\\desktop\\thomas more\\2024-2025(3ai)\\semester 1\\deep learning\\autonomous-driving-trackmania\\project_env\\lib\\site-packages (from fastai) (1.5.2)\n",
      "Requirement already satisfied: scipy in c:\\users\\huma raja\\desktop\\thomas more\\2024-2025(3ai)\\semester 1\\deep learning\\autonomous-driving-trackmania\\project_env\\lib\\site-packages (from fastai) (1.14.1)\n",
      "Requirement already satisfied: spacy<4 in c:\\users\\huma raja\\desktop\\thomas more\\2024-2025(3ai)\\semester 1\\deep learning\\autonomous-driving-trackmania\\project_env\\lib\\site-packages (from fastai) (3.7.6)\n",
      "Requirement already satisfied: torch<2.5,>=1.10 in c:\\users\\huma raja\\desktop\\thomas more\\2024-2025(3ai)\\semester 1\\deep learning\\autonomous-driving-trackmania\\project_env\\lib\\site-packages (from fastai) (2.4.1)\n",
      "Requirement already satisfied: spacy-legacy<3.1.0,>=3.0.11 in c:\\users\\huma raja\\desktop\\thomas more\\2024-2025(3ai)\\semester 1\\deep learning\\autonomous-driving-trackmania\\project_env\\lib\\site-packages (from spacy<4->fastai) (3.0.12)\n",
      "Requirement already satisfied: spacy-loggers<2.0.0,>=1.0.0 in c:\\users\\huma raja\\desktop\\thomas more\\2024-2025(3ai)\\semester 1\\deep learning\\autonomous-driving-trackmania\\project_env\\lib\\site-packages (from spacy<4->fastai) (1.0.5)\n",
      "Requirement already satisfied: murmurhash<1.1.0,>=0.28.0 in c:\\users\\huma raja\\desktop\\thomas more\\2024-2025(3ai)\\semester 1\\deep learning\\autonomous-driving-trackmania\\project_env\\lib\\site-packages (from spacy<4->fastai) (1.0.10)\n",
      "Requirement already satisfied: cymem<2.1.0,>=2.0.2 in c:\\users\\huma raja\\desktop\\thomas more\\2024-2025(3ai)\\semester 1\\deep learning\\autonomous-driving-trackmania\\project_env\\lib\\site-packages (from spacy<4->fastai) (2.0.8)\n",
      "Requirement already satisfied: preshed<3.1.0,>=3.0.2 in c:\\users\\huma raja\\desktop\\thomas more\\2024-2025(3ai)\\semester 1\\deep learning\\autonomous-driving-trackmania\\project_env\\lib\\site-packages (from spacy<4->fastai) (3.0.9)\n",
      "Requirement already satisfied: thinc<8.3.0,>=8.2.2 in c:\\users\\huma raja\\desktop\\thomas more\\2024-2025(3ai)\\semester 1\\deep learning\\autonomous-driving-trackmania\\project_env\\lib\\site-packages (from spacy<4->fastai) (8.2.5)\n",
      "Requirement already satisfied: wasabi<1.2.0,>=0.9.1 in c:\\users\\huma raja\\desktop\\thomas more\\2024-2025(3ai)\\semester 1\\deep learning\\autonomous-driving-trackmania\\project_env\\lib\\site-packages (from spacy<4->fastai) (1.1.3)\n",
      "Requirement already satisfied: srsly<3.0.0,>=2.4.3 in c:\\users\\huma raja\\desktop\\thomas more\\2024-2025(3ai)\\semester 1\\deep learning\\autonomous-driving-trackmania\\project_env\\lib\\site-packages (from spacy<4->fastai) (2.4.8)\n",
      "Requirement already satisfied: catalogue<2.1.0,>=2.0.6 in c:\\users\\huma raja\\desktop\\thomas more\\2024-2025(3ai)\\semester 1\\deep learning\\autonomous-driving-trackmania\\project_env\\lib\\site-packages (from spacy<4->fastai) (2.0.10)\n",
      "Requirement already satisfied: weasel<0.5.0,>=0.1.0 in c:\\users\\huma raja\\desktop\\thomas more\\2024-2025(3ai)\\semester 1\\deep learning\\autonomous-driving-trackmania\\project_env\\lib\\site-packages (from spacy<4->fastai) (0.4.1)\n",
      "Requirement already satisfied: typer<1.0.0,>=0.3.0 in c:\\users\\huma raja\\desktop\\thomas more\\2024-2025(3ai)\\semester 1\\deep learning\\autonomous-driving-trackmania\\project_env\\lib\\site-packages (from spacy<4->fastai) (0.12.5)\n",
      "Requirement already satisfied: tqdm<5.0.0,>=4.38.0 in c:\\users\\huma raja\\desktop\\thomas more\\2024-2025(3ai)\\semester 1\\deep learning\\autonomous-driving-trackmania\\project_env\\lib\\site-packages (from spacy<4->fastai) (4.66.5)\n",
      "Requirement already satisfied: pydantic!=1.8,!=1.8.1,<3.0.0,>=1.7.4 in c:\\users\\huma raja\\desktop\\thomas more\\2024-2025(3ai)\\semester 1\\deep learning\\autonomous-driving-trackmania\\project_env\\lib\\site-packages (from spacy<4->fastai) (2.9.2)\n",
      "Requirement already satisfied: jinja2 in c:\\users\\huma raja\\desktop\\thomas more\\2024-2025(3ai)\\semester 1\\deep learning\\autonomous-driving-trackmania\\project_env\\lib\\site-packages (from spacy<4->fastai) (3.1.4)\n",
      "Requirement already satisfied: setuptools in c:\\users\\huma raja\\desktop\\thomas more\\2024-2025(3ai)\\semester 1\\deep learning\\autonomous-driving-trackmania\\project_env\\lib\\site-packages (from spacy<4->fastai) (75.1.0)\n",
      "Requirement already satisfied: langcodes<4.0.0,>=3.2.0 in c:\\users\\huma raja\\desktop\\thomas more\\2024-2025(3ai)\\semester 1\\deep learning\\autonomous-driving-trackmania\\project_env\\lib\\site-packages (from spacy<4->fastai) (3.4.1)\n",
      "Requirement already satisfied: numpy>=1.19.0 in c:\\users\\huma raja\\desktop\\thomas more\\2024-2025(3ai)\\semester 1\\deep learning\\autonomous-driving-trackmania\\project_env\\lib\\site-packages (from spacy<4->fastai) (1.26.4)\n",
      "Requirement already satisfied: charset-normalizer<4,>=2 in c:\\users\\huma raja\\desktop\\thomas more\\2024-2025(3ai)\\semester 1\\deep learning\\autonomous-driving-trackmania\\project_env\\lib\\site-packages (from requests->fastai) (3.3.2)\n",
      "Requirement already satisfied: idna<4,>=2.5 in c:\\users\\huma raja\\desktop\\thomas more\\2024-2025(3ai)\\semester 1\\deep learning\\autonomous-driving-trackmania\\project_env\\lib\\site-packages (from requests->fastai) (3.10)\n",
      "Requirement already satisfied: urllib3<3,>=1.21.1 in c:\\users\\huma raja\\desktop\\thomas more\\2024-2025(3ai)\\semester 1\\deep learning\\autonomous-driving-trackmania\\project_env\\lib\\site-packages (from requests->fastai) (2.2.3)\n",
      "Requirement already satisfied: certifi>=2017.4.17 in c:\\users\\huma raja\\desktop\\thomas more\\2024-2025(3ai)\\semester 1\\deep learning\\autonomous-driving-trackmania\\project_env\\lib\\site-packages (from requests->fastai) (2024.8.30)\n",
      "Requirement already satisfied: filelock in c:\\users\\huma raja\\desktop\\thomas more\\2024-2025(3ai)\\semester 1\\deep learning\\autonomous-driving-trackmania\\project_env\\lib\\site-packages (from torch<2.5,>=1.10->fastai) (3.16.1)\n",
      "Requirement already satisfied: typing-extensions>=4.8.0 in c:\\users\\huma raja\\desktop\\thomas more\\2024-2025(3ai)\\semester 1\\deep learning\\autonomous-driving-trackmania\\project_env\\lib\\site-packages (from torch<2.5,>=1.10->fastai) (4.12.2)\n",
      "Requirement already satisfied: sympy in c:\\users\\huma raja\\desktop\\thomas more\\2024-2025(3ai)\\semester 1\\deep learning\\autonomous-driving-trackmania\\project_env\\lib\\site-packages (from torch<2.5,>=1.10->fastai) (1.13.3)\n",
      "Requirement already satisfied: networkx in c:\\users\\huma raja\\desktop\\thomas more\\2024-2025(3ai)\\semester 1\\deep learning\\autonomous-driving-trackmania\\project_env\\lib\\site-packages (from torch<2.5,>=1.10->fastai) (3.3)\n",
      "Requirement already satisfied: fsspec in c:\\users\\huma raja\\desktop\\thomas more\\2024-2025(3ai)\\semester 1\\deep learning\\autonomous-driving-trackmania\\project_env\\lib\\site-packages (from torch<2.5,>=1.10->fastai) (2024.9.0)\n",
      "Requirement already satisfied: contourpy>=1.0.1 in c:\\users\\huma raja\\desktop\\thomas more\\2024-2025(3ai)\\semester 1\\deep learning\\autonomous-driving-trackmania\\project_env\\lib\\site-packages (from matplotlib->fastai) (1.3.0)\n",
      "Requirement already satisfied: cycler>=0.10 in c:\\users\\huma raja\\desktop\\thomas more\\2024-2025(3ai)\\semester 1\\deep learning\\autonomous-driving-trackmania\\project_env\\lib\\site-packages (from matplotlib->fastai) (0.12.1)\n",
      "Requirement already satisfied: fonttools>=4.22.0 in c:\\users\\huma raja\\desktop\\thomas more\\2024-2025(3ai)\\semester 1\\deep learning\\autonomous-driving-trackmania\\project_env\\lib\\site-packages (from matplotlib->fastai) (4.54.1)\n",
      "Requirement already satisfied: kiwisolver>=1.3.1 in c:\\users\\huma raja\\desktop\\thomas more\\2024-2025(3ai)\\semester 1\\deep learning\\autonomous-driving-trackmania\\project_env\\lib\\site-packages (from matplotlib->fastai) (1.4.7)\n",
      "Requirement already satisfied: pyparsing>=2.3.1 in c:\\users\\huma raja\\desktop\\thomas more\\2024-2025(3ai)\\semester 1\\deep learning\\autonomous-driving-trackmania\\project_env\\lib\\site-packages (from matplotlib->fastai) (3.1.4)\n",
      "Requirement already satisfied: python-dateutil>=2.7 in c:\\users\\huma raja\\desktop\\thomas more\\2024-2025(3ai)\\semester 1\\deep learning\\autonomous-driving-trackmania\\project_env\\lib\\site-packages (from matplotlib->fastai) (2.9.0.post0)\n",
      "Requirement already satisfied: pytz>=2020.1 in c:\\users\\huma raja\\desktop\\thomas more\\2024-2025(3ai)\\semester 1\\deep learning\\autonomous-driving-trackmania\\project_env\\lib\\site-packages (from pandas->fastai) (2024.2)\n",
      "Requirement already satisfied: tzdata>=2022.7 in c:\\users\\huma raja\\desktop\\thomas more\\2024-2025(3ai)\\semester 1\\deep learning\\autonomous-driving-trackmania\\project_env\\lib\\site-packages (from pandas->fastai) (2024.2)\n",
      "Requirement already satisfied: joblib>=1.2.0 in c:\\users\\huma raja\\desktop\\thomas more\\2024-2025(3ai)\\semester 1\\deep learning\\autonomous-driving-trackmania\\project_env\\lib\\site-packages (from scikit-learn->fastai) (1.4.2)\n",
      "Requirement already satisfied: threadpoolctl>=3.1.0 in c:\\users\\huma raja\\desktop\\thomas more\\2024-2025(3ai)\\semester 1\\deep learning\\autonomous-driving-trackmania\\project_env\\lib\\site-packages (from scikit-learn->fastai) (3.5.0)\n",
      "Requirement already satisfied: language-data>=1.2 in c:\\users\\huma raja\\desktop\\thomas more\\2024-2025(3ai)\\semester 1\\deep learning\\autonomous-driving-trackmania\\project_env\\lib\\site-packages (from langcodes<4.0.0,>=3.2.0->spacy<4->fastai) (1.2.0)\n",
      "Requirement already satisfied: annotated-types>=0.6.0 in c:\\users\\huma raja\\desktop\\thomas more\\2024-2025(3ai)\\semester 1\\deep learning\\autonomous-driving-trackmania\\project_env\\lib\\site-packages (from pydantic!=1.8,!=1.8.1,<3.0.0,>=1.7.4->spacy<4->fastai) (0.7.0)\n",
      "Requirement already satisfied: pydantic-core==2.23.4 in c:\\users\\huma raja\\desktop\\thomas more\\2024-2025(3ai)\\semester 1\\deep learning\\autonomous-driving-trackmania\\project_env\\lib\\site-packages (from pydantic!=1.8,!=1.8.1,<3.0.0,>=1.7.4->spacy<4->fastai) (2.23.4)\n",
      "Requirement already satisfied: six>=1.5 in c:\\users\\huma raja\\desktop\\thomas more\\2024-2025(3ai)\\semester 1\\deep learning\\autonomous-driving-trackmania\\project_env\\lib\\site-packages (from python-dateutil>=2.7->matplotlib->fastai) (1.16.0)\n",
      "Requirement already satisfied: blis<0.8.0,>=0.7.8 in c:\\users\\huma raja\\desktop\\thomas more\\2024-2025(3ai)\\semester 1\\deep learning\\autonomous-driving-trackmania\\project_env\\lib\\site-packages (from thinc<8.3.0,>=8.2.2->spacy<4->fastai) (0.7.11)\n",
      "Requirement already satisfied: confection<1.0.0,>=0.0.1 in c:\\users\\huma raja\\desktop\\thomas more\\2024-2025(3ai)\\semester 1\\deep learning\\autonomous-driving-trackmania\\project_env\\lib\\site-packages (from thinc<8.3.0,>=8.2.2->spacy<4->fastai) (0.1.5)\n",
      "Requirement already satisfied: colorama in c:\\users\\huma raja\\desktop\\thomas more\\2024-2025(3ai)\\semester 1\\deep learning\\autonomous-driving-trackmania\\project_env\\lib\\site-packages (from tqdm<5.0.0,>=4.38.0->spacy<4->fastai) (0.4.6)\n",
      "Requirement already satisfied: click>=8.0.0 in c:\\users\\huma raja\\desktop\\thomas more\\2024-2025(3ai)\\semester 1\\deep learning\\autonomous-driving-trackmania\\project_env\\lib\\site-packages (from typer<1.0.0,>=0.3.0->spacy<4->fastai) (8.1.7)\n",
      "Requirement already satisfied: shellingham>=1.3.0 in c:\\users\\huma raja\\desktop\\thomas more\\2024-2025(3ai)\\semester 1\\deep learning\\autonomous-driving-trackmania\\project_env\\lib\\site-packages (from typer<1.0.0,>=0.3.0->spacy<4->fastai) (1.5.4)\n",
      "Requirement already satisfied: rich>=10.11.0 in c:\\users\\huma raja\\desktop\\thomas more\\2024-2025(3ai)\\semester 1\\deep learning\\autonomous-driving-trackmania\\project_env\\lib\\site-packages (from typer<1.0.0,>=0.3.0->spacy<4->fastai) (13.8.1)\n",
      "Requirement already satisfied: cloudpathlib<1.0.0,>=0.7.0 in c:\\users\\huma raja\\desktop\\thomas more\\2024-2025(3ai)\\semester 1\\deep learning\\autonomous-driving-trackmania\\project_env\\lib\\site-packages (from weasel<0.5.0,>=0.1.0->spacy<4->fastai) (0.19.0)\n",
      "Requirement already satisfied: smart-open<8.0.0,>=5.2.1 in c:\\users\\huma raja\\desktop\\thomas more\\2024-2025(3ai)\\semester 1\\deep learning\\autonomous-driving-trackmania\\project_env\\lib\\site-packages (from weasel<0.5.0,>=0.1.0->spacy<4->fastai) (7.0.4)\n",
      "Requirement already satisfied: MarkupSafe>=2.0 in c:\\users\\huma raja\\desktop\\thomas more\\2024-2025(3ai)\\semester 1\\deep learning\\autonomous-driving-trackmania\\project_env\\lib\\site-packages (from jinja2->spacy<4->fastai) (2.1.5)\n",
      "Requirement already satisfied: mpmath<1.4,>=1.1.0 in c:\\users\\huma raja\\desktop\\thomas more\\2024-2025(3ai)\\semester 1\\deep learning\\autonomous-driving-trackmania\\project_env\\lib\\site-packages (from sympy->torch<2.5,>=1.10->fastai) (1.3.0)\n",
      "Requirement already satisfied: marisa-trie>=0.7.7 in c:\\users\\huma raja\\desktop\\thomas more\\2024-2025(3ai)\\semester 1\\deep learning\\autonomous-driving-trackmania\\project_env\\lib\\site-packages (from language-data>=1.2->langcodes<4.0.0,>=3.2.0->spacy<4->fastai) (1.2.0)\n",
      "Requirement already satisfied: markdown-it-py>=2.2.0 in c:\\users\\huma raja\\desktop\\thomas more\\2024-2025(3ai)\\semester 1\\deep learning\\autonomous-driving-trackmania\\project_env\\lib\\site-packages (from rich>=10.11.0->typer<1.0.0,>=0.3.0->spacy<4->fastai) (3.0.0)\n",
      "Requirement already satisfied: pygments<3.0.0,>=2.13.0 in c:\\users\\huma raja\\desktop\\thomas more\\2024-2025(3ai)\\semester 1\\deep learning\\autonomous-driving-trackmania\\project_env\\lib\\site-packages (from rich>=10.11.0->typer<1.0.0,>=0.3.0->spacy<4->fastai) (2.18.0)\n",
      "Requirement already satisfied: wrapt in c:\\users\\huma raja\\desktop\\thomas more\\2024-2025(3ai)\\semester 1\\deep learning\\autonomous-driving-trackmania\\project_env\\lib\\site-packages (from smart-open<8.0.0,>=5.2.1->weasel<0.5.0,>=0.1.0->spacy<4->fastai) (1.16.0)\n",
      "Requirement already satisfied: mdurl~=0.1 in c:\\users\\huma raja\\desktop\\thomas more\\2024-2025(3ai)\\semester 1\\deep learning\\autonomous-driving-trackmania\\project_env\\lib\\site-packages (from markdown-it-py>=2.2.0->rich>=10.11.0->typer<1.0.0,>=0.3.0->spacy<4->fastai) (0.1.2)\n",
      "Note: you may need to restart the kernel to use updated packages.\n"
     ]
    },
    {
     "name": "stderr",
     "output_type": "stream",
     "text": [
      "\n",
      "[notice] A new release of pip is available: 23.2.1 -> 24.2\n",
      "[notice] To update, run: python.exe -m pip install --upgrade pip\n"
     ]
    },
    {
     "name": "stdout",
     "output_type": "stream",
     "text": [
      "Requirement already satisfied: torch in c:\\users\\huma raja\\desktop\\thomas more\\2024-2025(3ai)\\semester 1\\deep learning\\autonomous-driving-trackmania\\project_env\\lib\\site-packages (2.4.1)\n",
      "Requirement already satisfied: torchvision in c:\\users\\huma raja\\desktop\\thomas more\\2024-2025(3ai)\\semester 1\\deep learning\\autonomous-driving-trackmania\\project_env\\lib\\site-packages (0.19.1)\n",
      "Collecting torchaudio\n",
      "  Obtaining dependency information for torchaudio from https://files.pythonhosted.org/packages/9b/f5/d3c9b0ba802e2b8e363c5366b37b6b5fb703ac052a5afc334c36b255401f/torchaudio-2.4.1-cp312-cp312-win_amd64.whl.metadata\n",
      "  Downloading torchaudio-2.4.1-cp312-cp312-win_amd64.whl.metadata (6.5 kB)\n",
      "Requirement already satisfied: filelock in c:\\users\\huma raja\\desktop\\thomas more\\2024-2025(3ai)\\semester 1\\deep learning\\autonomous-driving-trackmania\\project_env\\lib\\site-packages (from torch) (3.16.1)\n",
      "Requirement already satisfied: typing-extensions>=4.8.0 in c:\\users\\huma raja\\desktop\\thomas more\\2024-2025(3ai)\\semester 1\\deep learning\\autonomous-driving-trackmania\\project_env\\lib\\site-packages (from torch) (4.12.2)\n",
      "Requirement already satisfied: sympy in c:\\users\\huma raja\\desktop\\thomas more\\2024-2025(3ai)\\semester 1\\deep learning\\autonomous-driving-trackmania\\project_env\\lib\\site-packages (from torch) (1.13.3)\n",
      "Requirement already satisfied: networkx in c:\\users\\huma raja\\desktop\\thomas more\\2024-2025(3ai)\\semester 1\\deep learning\\autonomous-driving-trackmania\\project_env\\lib\\site-packages (from torch) (3.3)\n",
      "Requirement already satisfied: jinja2 in c:\\users\\huma raja\\desktop\\thomas more\\2024-2025(3ai)\\semester 1\\deep learning\\autonomous-driving-trackmania\\project_env\\lib\\site-packages (from torch) (3.1.4)\n",
      "Requirement already satisfied: fsspec in c:\\users\\huma raja\\desktop\\thomas more\\2024-2025(3ai)\\semester 1\\deep learning\\autonomous-driving-trackmania\\project_env\\lib\\site-packages (from torch) (2024.9.0)\n",
      "Requirement already satisfied: setuptools in c:\\users\\huma raja\\desktop\\thomas more\\2024-2025(3ai)\\semester 1\\deep learning\\autonomous-driving-trackmania\\project_env\\lib\\site-packages (from torch) (75.1.0)\n",
      "Requirement already satisfied: numpy in c:\\users\\huma raja\\desktop\\thomas more\\2024-2025(3ai)\\semester 1\\deep learning\\autonomous-driving-trackmania\\project_env\\lib\\site-packages (from torchvision) (1.26.4)\n",
      "Requirement already satisfied: pillow!=8.3.*,>=5.3.0 in c:\\users\\huma raja\\desktop\\thomas more\\2024-2025(3ai)\\semester 1\\deep learning\\autonomous-driving-trackmania\\project_env\\lib\\site-packages (from torchvision) (10.4.0)\n",
      "Requirement already satisfied: MarkupSafe>=2.0 in c:\\users\\huma raja\\desktop\\thomas more\\2024-2025(3ai)\\semester 1\\deep learning\\autonomous-driving-trackmania\\project_env\\lib\\site-packages (from jinja2->torch) (2.1.5)\n",
      "Requirement already satisfied: mpmath<1.4,>=1.1.0 in c:\\users\\huma raja\\desktop\\thomas more\\2024-2025(3ai)\\semester 1\\deep learning\\autonomous-driving-trackmania\\project_env\\lib\\site-packages (from sympy->torch) (1.3.0)\n",
      "Downloading torchaudio-2.4.1-cp312-cp312-win_amd64.whl (2.4 MB)\n",
      "   ---------------------------------------- 0.0/2.4 MB ? eta -:--:--\n",
      "   ---------------------------------------- 0.0/2.4 MB ? eta -:--:--\n",
      "   ---------------------------------------- 0.0/2.4 MB ? eta -:--:--\n",
      "    --------------------------------------- 0.0/2.4 MB 330.3 kB/s eta 0:00:08\n",
      "   - -------------------------------------- 0.1/2.4 MB 751.6 kB/s eta 0:00:04\n",
      "   ------- -------------------------------- 0.4/2.4 MB 2.7 MB/s eta 0:00:01\n",
      "   --------------------------- ------------ 1.6/2.4 MB 8.1 MB/s eta 0:00:01\n",
      "   ---------------------------------------- 2.4/2.4 MB 9.6 MB/s eta 0:00:00\n",
      "Installing collected packages: torchaudio\n",
      "Successfully installed torchaudio-2.4.1\n",
      "Note: you may need to restart the kernel to use updated packages.\n"
     ]
    },
    {
     "name": "stderr",
     "output_type": "stream",
     "text": [
      "\n",
      "[notice] A new release of pip is available: 23.2.1 -> 24.2\n",
      "[notice] To update, run: python.exe -m pip install --upgrade pip\n"
     ]
    }
   ],
   "source": [
    "%pip install fastai\n",
    "%pip install torch torchvision torchaudio\n"
   ]
  },
  {
   "cell_type": "code",
   "execution_count": 7,
   "metadata": {},
   "outputs": [
    {
     "ename": "TypeError",
     "evalue": "'NoneType' object is not iterable",
     "output_type": "error",
     "traceback": [
      "\u001b[1;31m---------------------------------------------------------------------------\u001b[0m",
      "\u001b[1;31mTypeError\u001b[0m                                 Traceback (most recent call last)",
      "Cell \u001b[1;32mIn[7], line 18\u001b[0m\n\u001b[0;32m      8\u001b[0m dblock \u001b[38;5;241m=\u001b[39m DataBlock(\n\u001b[0;32m      9\u001b[0m     blocks\u001b[38;5;241m=\u001b[39m(ImageBlock, CategoryBlock),  \u001b[38;5;66;03m# We classificeren afbeeldingen\u001b[39;00m\n\u001b[0;32m     10\u001b[0m     get_items\u001b[38;5;241m=\u001b[39mget_image_files,           \u001b[38;5;66;03m# Alle afbeeldingsbestanden ophalen\u001b[39;00m\n\u001b[1;32m   (...)\u001b[0m\n\u001b[0;32m     14\u001b[0m     batch_tfms\u001b[38;5;241m=\u001b[39maug_transforms(size\u001b[38;5;241m=\u001b[39m\u001b[38;5;241m180\u001b[39m)  \u001b[38;5;66;03m# Basisaugmentatie en schaling\u001b[39;00m\n\u001b[0;32m     15\u001b[0m )\n\u001b[0;32m     17\u001b[0m \u001b[38;5;66;03m# Maak een DataLoaders object\u001b[39;00m\n\u001b[1;32m---> 18\u001b[0m dls \u001b[38;5;241m=\u001b[39m \u001b[43mdblock\u001b[49m\u001b[38;5;241;43m.\u001b[39;49m\u001b[43mdataloaders\u001b[49m\u001b[43m(\u001b[49m\u001b[43mdata_dir\u001b[49m\u001b[43m,\u001b[49m\u001b[43m \u001b[49m\u001b[43mbs\u001b[49m\u001b[38;5;241;43m=\u001b[39;49m\u001b[38;5;241;43m32\u001b[39;49m\u001b[43m)\u001b[49m\n\u001b[0;32m     20\u001b[0m \u001b[38;5;66;03m# Het model trainen met een vooraf getrainde ResNet-architectuur\u001b[39;00m\n\u001b[0;32m     21\u001b[0m learn \u001b[38;5;241m=\u001b[39m cnn_learner(dls, resnet18, metrics\u001b[38;5;241m=\u001b[39maccuracy)\n",
      "File \u001b[1;32mc:\\Users\\Huma Raja\\Desktop\\Thomas More\\2024-2025(3AI)\\Semester 1\\Deep Learning\\autonomous-driving-trackmania\\project_env\\Lib\\site-packages\\fastai\\data\\block.py:157\u001b[0m, in \u001b[0;36mDataBlock.dataloaders\u001b[1;34m(self, source, path, verbose, **kwargs)\u001b[0m\n\u001b[0;32m    151\u001b[0m \u001b[38;5;28;01mdef\u001b[39;00m \u001b[38;5;21mdataloaders\u001b[39m(\u001b[38;5;28mself\u001b[39m, \n\u001b[0;32m    152\u001b[0m     source, \u001b[38;5;66;03m# The data source\u001b[39;00m\n\u001b[0;32m    153\u001b[0m     path:\u001b[38;5;28mstr\u001b[39m\u001b[38;5;241m=\u001b[39m\u001b[38;5;124m'\u001b[39m\u001b[38;5;124m.\u001b[39m\u001b[38;5;124m'\u001b[39m, \u001b[38;5;66;03m# Data source and default `Learner` path \u001b[39;00m\n\u001b[0;32m    154\u001b[0m     verbose:\u001b[38;5;28mbool\u001b[39m\u001b[38;5;241m=\u001b[39m\u001b[38;5;28;01mFalse\u001b[39;00m, \u001b[38;5;66;03m# Show verbose messages\u001b[39;00m\n\u001b[0;32m    155\u001b[0m     \u001b[38;5;241m*\u001b[39m\u001b[38;5;241m*\u001b[39mkwargs\n\u001b[0;32m    156\u001b[0m ) \u001b[38;5;241m-\u001b[39m\u001b[38;5;241m>\u001b[39m DataLoaders:\n\u001b[1;32m--> 157\u001b[0m     dsets \u001b[38;5;241m=\u001b[39m \u001b[38;5;28;43mself\u001b[39;49m\u001b[38;5;241;43m.\u001b[39;49m\u001b[43mdatasets\u001b[49m\u001b[43m(\u001b[49m\u001b[43msource\u001b[49m\u001b[43m,\u001b[49m\u001b[43m \u001b[49m\u001b[43mverbose\u001b[49m\u001b[38;5;241;43m=\u001b[39;49m\u001b[43mverbose\u001b[49m\u001b[43m)\u001b[49m\n\u001b[0;32m    158\u001b[0m     kwargs \u001b[38;5;241m=\u001b[39m {\u001b[38;5;241m*\u001b[39m\u001b[38;5;241m*\u001b[39m\u001b[38;5;28mself\u001b[39m\u001b[38;5;241m.\u001b[39mdls_kwargs, \u001b[38;5;241m*\u001b[39m\u001b[38;5;241m*\u001b[39mkwargs, \u001b[38;5;124m'\u001b[39m\u001b[38;5;124mverbose\u001b[39m\u001b[38;5;124m'\u001b[39m: verbose}\n\u001b[0;32m    159\u001b[0m     \u001b[38;5;28;01mreturn\u001b[39;00m dsets\u001b[38;5;241m.\u001b[39mdataloaders(path\u001b[38;5;241m=\u001b[39mpath, after_item\u001b[38;5;241m=\u001b[39m\u001b[38;5;28mself\u001b[39m\u001b[38;5;241m.\u001b[39mitem_tfms, after_batch\u001b[38;5;241m=\u001b[39m\u001b[38;5;28mself\u001b[39m\u001b[38;5;241m.\u001b[39mbatch_tfms, \u001b[38;5;241m*\u001b[39m\u001b[38;5;241m*\u001b[39mkwargs)\n",
      "File \u001b[1;32mc:\\Users\\Huma Raja\\Desktop\\Thomas More\\2024-2025(3AI)\\Semester 1\\Deep Learning\\autonomous-driving-trackmania\\project_env\\Lib\\site-packages\\fastai\\data\\block.py:149\u001b[0m, in \u001b[0;36mDataBlock.datasets\u001b[1;34m(self, source, verbose)\u001b[0m\n\u001b[0;32m    147\u001b[0m splits \u001b[38;5;241m=\u001b[39m (\u001b[38;5;28mself\u001b[39m\u001b[38;5;241m.\u001b[39msplitter \u001b[38;5;129;01mor\u001b[39;00m RandomSplitter())(items)\n\u001b[0;32m    148\u001b[0m pv(\u001b[38;5;124mf\u001b[39m\u001b[38;5;124m\"\u001b[39m\u001b[38;5;132;01m{\u001b[39;00m\u001b[38;5;28mlen\u001b[39m(splits)\u001b[38;5;132;01m}\u001b[39;00m\u001b[38;5;124m datasets of sizes \u001b[39m\u001b[38;5;132;01m{\u001b[39;00m\u001b[38;5;124m'\u001b[39m\u001b[38;5;124m,\u001b[39m\u001b[38;5;124m'\u001b[39m\u001b[38;5;241m.\u001b[39mjoin([\u001b[38;5;28mstr\u001b[39m(\u001b[38;5;28mlen\u001b[39m(s))\u001b[38;5;250m \u001b[39m\u001b[38;5;28;01mfor\u001b[39;00m\u001b[38;5;250m \u001b[39ms\u001b[38;5;250m \u001b[39m\u001b[38;5;129;01min\u001b[39;00m\u001b[38;5;250m \u001b[39msplits])\u001b[38;5;132;01m}\u001b[39;00m\u001b[38;5;124m\"\u001b[39m, verbose)\n\u001b[1;32m--> 149\u001b[0m \u001b[38;5;28;01mreturn\u001b[39;00m \u001b[43mDatasets\u001b[49m\u001b[43m(\u001b[49m\u001b[43mitems\u001b[49m\u001b[43m,\u001b[49m\u001b[43m \u001b[49m\u001b[43mtfms\u001b[49m\u001b[38;5;241;43m=\u001b[39;49m\u001b[38;5;28;43mself\u001b[39;49m\u001b[38;5;241;43m.\u001b[39;49m\u001b[43m_combine_type_tfms\u001b[49m\u001b[43m(\u001b[49m\u001b[43m)\u001b[49m\u001b[43m,\u001b[49m\u001b[43m \u001b[49m\u001b[43msplits\u001b[49m\u001b[38;5;241;43m=\u001b[39;49m\u001b[43msplits\u001b[49m\u001b[43m,\u001b[49m\u001b[43m \u001b[49m\u001b[43mdl_type\u001b[49m\u001b[38;5;241;43m=\u001b[39;49m\u001b[38;5;28;43mself\u001b[39;49m\u001b[38;5;241;43m.\u001b[39;49m\u001b[43mdl_type\u001b[49m\u001b[43m,\u001b[49m\u001b[43m \u001b[49m\u001b[43mn_inp\u001b[49m\u001b[38;5;241;43m=\u001b[39;49m\u001b[38;5;28;43mself\u001b[39;49m\u001b[38;5;241;43m.\u001b[39;49m\u001b[43mn_inp\u001b[49m\u001b[43m,\u001b[49m\u001b[43m \u001b[49m\u001b[43mverbose\u001b[49m\u001b[38;5;241;43m=\u001b[39;49m\u001b[43mverbose\u001b[49m\u001b[43m)\u001b[49m\n",
      "File \u001b[1;32mc:\\Users\\Huma Raja\\Desktop\\Thomas More\\2024-2025(3AI)\\Semester 1\\Deep Learning\\autonomous-driving-trackmania\\project_env\\Lib\\site-packages\\fastai\\data\\core.py:445\u001b[0m, in \u001b[0;36mDatasets.__init__\u001b[1;34m(self, items, tfms, tls, n_inp, dl_type, **kwargs)\u001b[0m\n\u001b[0;32m    436\u001b[0m \u001b[38;5;28;01mdef\u001b[39;00m \u001b[38;5;21m__init__\u001b[39m(\u001b[38;5;28mself\u001b[39m, \n\u001b[0;32m    437\u001b[0m     items:\u001b[38;5;28mlist\u001b[39m\u001b[38;5;241m=\u001b[39m\u001b[38;5;28;01mNone\u001b[39;00m, \u001b[38;5;66;03m# List of items to create `Datasets`\u001b[39;00m\n\u001b[0;32m    438\u001b[0m     tfms:MutableSequence\u001b[38;5;241m|\u001b[39mPipeline\u001b[38;5;241m=\u001b[39m\u001b[38;5;28;01mNone\u001b[39;00m, \u001b[38;5;66;03m# List of `Transform`(s) or `Pipeline` to apply\u001b[39;00m\n\u001b[1;32m   (...)\u001b[0m\n\u001b[0;32m    442\u001b[0m     \u001b[38;5;241m*\u001b[39m\u001b[38;5;241m*\u001b[39mkwargs\n\u001b[0;32m    443\u001b[0m ):\n\u001b[0;32m    444\u001b[0m     \u001b[38;5;28msuper\u001b[39m()\u001b[38;5;241m.\u001b[39m\u001b[38;5;21m__init__\u001b[39m(dl_type\u001b[38;5;241m=\u001b[39mdl_type)\n\u001b[1;32m--> 445\u001b[0m     \u001b[38;5;28mself\u001b[39m\u001b[38;5;241m.\u001b[39mtls \u001b[38;5;241m=\u001b[39m L(tls \u001b[38;5;28;01mif\u001b[39;00m tls \u001b[38;5;28;01melse\u001b[39;00m [\u001b[43mTfmdLists\u001b[49m\u001b[43m(\u001b[49m\u001b[43mitems\u001b[49m\u001b[43m,\u001b[49m\u001b[43m \u001b[49m\u001b[43mt\u001b[49m\u001b[43m,\u001b[49m\u001b[43m \u001b[49m\u001b[38;5;241;43m*\u001b[39;49m\u001b[38;5;241;43m*\u001b[39;49m\u001b[43mkwargs\u001b[49m\u001b[43m)\u001b[49m \u001b[38;5;28;01mfor\u001b[39;00m t \u001b[38;5;129;01min\u001b[39;00m L(ifnone(tfms,[\u001b[38;5;28;01mNone\u001b[39;00m]))])\n\u001b[0;32m    446\u001b[0m     \u001b[38;5;28mself\u001b[39m\u001b[38;5;241m.\u001b[39mn_inp \u001b[38;5;241m=\u001b[39m ifnone(n_inp, \u001b[38;5;28mmax\u001b[39m(\u001b[38;5;241m1\u001b[39m, \u001b[38;5;28mlen\u001b[39m(\u001b[38;5;28mself\u001b[39m\u001b[38;5;241m.\u001b[39mtls)\u001b[38;5;241m-\u001b[39m\u001b[38;5;241m1\u001b[39m))\n",
      "File \u001b[1;32mc:\\Users\\Huma Raja\\Desktop\\Thomas More\\2024-2025(3AI)\\Semester 1\\Deep Learning\\autonomous-driving-trackmania\\project_env\\Lib\\site-packages\\fastcore\\foundation.py:100\u001b[0m, in \u001b[0;36m_L_Meta.__call__\u001b[1;34m(cls, x, *args, **kwargs)\u001b[0m\n\u001b[0;32m     98\u001b[0m \u001b[38;5;28;01mdef\u001b[39;00m \u001b[38;5;21m__call__\u001b[39m(\u001b[38;5;28mcls\u001b[39m, x\u001b[38;5;241m=\u001b[39m\u001b[38;5;28;01mNone\u001b[39;00m, \u001b[38;5;241m*\u001b[39margs, \u001b[38;5;241m*\u001b[39m\u001b[38;5;241m*\u001b[39mkwargs):\n\u001b[0;32m     99\u001b[0m     \u001b[38;5;28;01mif\u001b[39;00m \u001b[38;5;129;01mnot\u001b[39;00m args \u001b[38;5;129;01mand\u001b[39;00m \u001b[38;5;129;01mnot\u001b[39;00m kwargs \u001b[38;5;129;01mand\u001b[39;00m x \u001b[38;5;129;01mis\u001b[39;00m \u001b[38;5;129;01mnot\u001b[39;00m \u001b[38;5;28;01mNone\u001b[39;00m \u001b[38;5;129;01mand\u001b[39;00m \u001b[38;5;28misinstance\u001b[39m(x,\u001b[38;5;28mcls\u001b[39m): \u001b[38;5;28;01mreturn\u001b[39;00m x\n\u001b[1;32m--> 100\u001b[0m     \u001b[38;5;28;01mreturn\u001b[39;00m \u001b[38;5;28;43msuper\u001b[39;49m\u001b[43m(\u001b[49m\u001b[43m)\u001b[49m\u001b[38;5;241;43m.\u001b[39;49m\u001b[38;5;21;43m__call__\u001b[39;49m\u001b[43m(\u001b[49m\u001b[43mx\u001b[49m\u001b[43m,\u001b[49m\u001b[43m \u001b[49m\u001b[38;5;241;43m*\u001b[39;49m\u001b[43margs\u001b[49m\u001b[43m,\u001b[49m\u001b[43m \u001b[49m\u001b[38;5;241;43m*\u001b[39;49m\u001b[38;5;241;43m*\u001b[39;49m\u001b[43mkwargs\u001b[49m\u001b[43m)\u001b[49m\n",
      "File \u001b[1;32mc:\\Users\\Huma Raja\\Desktop\\Thomas More\\2024-2025(3AI)\\Semester 1\\Deep Learning\\autonomous-driving-trackmania\\project_env\\Lib\\site-packages\\fastai\\data\\core.py:359\u001b[0m, in \u001b[0;36mTfmdLists.__init__\u001b[1;34m(self, items, tfms, use_list, do_setup, split_idx, train_setup, splits, types, verbose, dl_type)\u001b[0m\n\u001b[0;32m    357\u001b[0m \u001b[38;5;28;01mif\u001b[39;00m do_setup:\n\u001b[0;32m    358\u001b[0m     pv(\u001b[38;5;124mf\u001b[39m\u001b[38;5;124m\"\u001b[39m\u001b[38;5;124mSetting up \u001b[39m\u001b[38;5;132;01m{\u001b[39;00m\u001b[38;5;28mself\u001b[39m\u001b[38;5;241m.\u001b[39mtfms\u001b[38;5;132;01m}\u001b[39;00m\u001b[38;5;124m\"\u001b[39m, verbose)\n\u001b[1;32m--> 359\u001b[0m     \u001b[38;5;28;43mself\u001b[39;49m\u001b[38;5;241;43m.\u001b[39;49m\u001b[43msetup\u001b[49m\u001b[43m(\u001b[49m\u001b[43mtrain_setup\u001b[49m\u001b[38;5;241;43m=\u001b[39;49m\u001b[43mtrain_setup\u001b[49m\u001b[43m)\u001b[49m\n",
      "File \u001b[1;32mc:\\Users\\Huma Raja\\Desktop\\Thomas More\\2024-2025(3AI)\\Semester 1\\Deep Learning\\autonomous-driving-trackmania\\project_env\\Lib\\site-packages\\fastai\\data\\core.py:388\u001b[0m, in \u001b[0;36mTfmdLists.setup\u001b[1;34m(self, train_setup)\u001b[0m\n\u001b[0;32m    386\u001b[0m         x \u001b[38;5;241m=\u001b[39m f(x)\n\u001b[0;32m    387\u001b[0m     \u001b[38;5;28mself\u001b[39m\u001b[38;5;241m.\u001b[39mtypes\u001b[38;5;241m.\u001b[39mappend(\u001b[38;5;28mtype\u001b[39m(x))\n\u001b[1;32m--> 388\u001b[0m types \u001b[38;5;241m=\u001b[39m L\u001b[43m(\u001b[49m\u001b[43mt\u001b[49m\u001b[43m \u001b[49m\u001b[38;5;28;43;01mif\u001b[39;49;00m\u001b[43m \u001b[49m\u001b[43mis_listy\u001b[49m\u001b[43m(\u001b[49m\u001b[43mt\u001b[49m\u001b[43m)\u001b[49m\u001b[43m \u001b[49m\u001b[38;5;28;43;01melse\u001b[39;49;00m\u001b[43m \u001b[49m\u001b[43m[\u001b[49m\u001b[43mt\u001b[49m\u001b[43m]\u001b[49m\u001b[43m \u001b[49m\u001b[38;5;28;43;01mfor\u001b[39;49;00m\u001b[43m \u001b[49m\u001b[43mt\u001b[49m\u001b[43m \u001b[49m\u001b[38;5;129;43;01min\u001b[39;49;00m\u001b[43m \u001b[49m\u001b[38;5;28;43mself\u001b[39;49m\u001b[38;5;241;43m.\u001b[39;49m\u001b[43mtypes\u001b[49m\u001b[43m)\u001b[49m\u001b[38;5;241m.\u001b[39mconcat()\u001b[38;5;241m.\u001b[39munique()\n\u001b[0;32m    389\u001b[0m \u001b[38;5;28mself\u001b[39m\u001b[38;5;241m.\u001b[39mpretty_types \u001b[38;5;241m=\u001b[39m \u001b[38;5;124m'\u001b[39m\u001b[38;5;130;01m\\n\u001b[39;00m\u001b[38;5;124m'\u001b[39m\u001b[38;5;241m.\u001b[39mjoin([\u001b[38;5;124mf\u001b[39m\u001b[38;5;124m'\u001b[39m\u001b[38;5;124m  - \u001b[39m\u001b[38;5;132;01m{\u001b[39;00mt\u001b[38;5;132;01m}\u001b[39;00m\u001b[38;5;124m'\u001b[39m \u001b[38;5;28;01mfor\u001b[39;00m t \u001b[38;5;129;01min\u001b[39;00m types])\n",
      "\u001b[1;31mTypeError\u001b[0m: 'NoneType' object is not iterable"
     ]
    }
   ],
   "source": [
    "from fastai.vision.all import *\n",
    "import pathlib\n",
    "\n",
    "# Stel het pad in naar je afbeeldingen\n",
    "data_dir = pathlib.Path(\"/Screenshots\")\n",
    "\n",
    "# DataBlock voor het verwerken van afbeeldingen\n",
    "dblock = DataBlock(\n",
    "    blocks=(ImageBlock, CategoryBlock),  # We classificeren afbeeldingen\n",
    "    get_items=get_image_files,           # Alle afbeeldingsbestanden ophalen\n",
    "    splitter=RandomSplitter(valid_pct=0.2, seed=123),  # 20% voor validatie\n",
    "    get_y=parent_label,                  # Labels worden gebaseerd op mappenamen\n",
    "    item_tfms=Resize(180),               # Afbeeldingen worden geschaald naar 180x180\n",
    "    batch_tfms=aug_transforms(size=180)  # Basisaugmentatie en schaling\n",
    ")\n",
    "\n",
    "# Maak een DataLoaders object\n",
    "dls = dblock.dataloaders(data_dir, bs=32)\n",
    "\n",
    "# Het model trainen met een vooraf getrainde ResNet-architectuur\n",
    "learn = cnn_learner(dls, resnet18, metrics=accuracy)\n",
    "\n",
    "# Samenvatting van het model\n",
    "learn.model\n",
    "\n",
    "# Optionele callback voor vroegtijdig stoppen\n",
    "early_stopping_cb = EarlyStoppingCallback(monitor='valid_loss', patience=8)\n",
    "\n",
    "# Train het model\n",
    "learn.fit_one_cycle(20, cbs=[early_stopping_cb])\n",
    "\n",
    "# Bewaar het getrainde model\n",
    "learn.export('ad-model.h5')\n"
   ]
  }
 ],
 "metadata": {
  "kernelspec": {
   "display_name": "project_env",
   "language": "python",
   "name": "python3"
  },
  "language_info": {
   "codemirror_mode": {
    "name": "ipython",
    "version": 3
   },
   "file_extension": ".py",
   "mimetype": "text/x-python",
   "name": "python",
   "nbconvert_exporter": "python",
   "pygments_lexer": "ipython3",
   "version": "3.12.0"
  }
 },
 "nbformat": 4,
 "nbformat_minor": 2
}
