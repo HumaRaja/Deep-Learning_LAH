{
 "cells": [
  {
   "cell_type": "code",
   "execution_count": 1,
   "metadata": {},
   "outputs": [
    {
     "name": "stdout",
     "output_type": "stream",
     "text": [
      "Requirement already satisfied: fastai in c:\\3itf\\deep learning\\project\\deep-learning_lah\\project_env\\lib\\site-packages (2.7.17)\n",
      "Requirement already satisfied: pip in c:\\3itf\\deep learning\\project\\deep-learning_lah\\project_env\\lib\\site-packages (from fastai) (22.3)\n",
      "Requirement already satisfied: packaging in c:\\3itf\\deep learning\\project\\deep-learning_lah\\project_env\\lib\\site-packages (from fastai) (24.1)\n",
      "Requirement already satisfied: fastdownload<2,>=0.0.5 in c:\\3itf\\deep learning\\project\\deep-learning_lah\\project_env\\lib\\site-packages (from fastai) (0.0.7)\n",
      "Requirement already satisfied: fastcore<1.8,>=1.5.29 in c:\\3itf\\deep learning\\project\\deep-learning_lah\\project_env\\lib\\site-packages (from fastai) (1.7.11)\n",
      "Requirement already satisfied: torchvision>=0.11 in c:\\3itf\\deep learning\\project\\deep-learning_lah\\project_env\\lib\\site-packages (from fastai) (0.19.1)\n",
      "Requirement already satisfied: matplotlib in c:\\3itf\\deep learning\\project\\deep-learning_lah\\project_env\\lib\\site-packages (from fastai) (3.9.2)\n",
      "Requirement already satisfied: pandas in c:\\3itf\\deep learning\\project\\deep-learning_lah\\project_env\\lib\\site-packages (from fastai) (2.2.3)\n",
      "Requirement already satisfied: requests in c:\\3itf\\deep learning\\project\\deep-learning_lah\\project_env\\lib\\site-packages (from fastai) (2.32.3)\n",
      "Requirement already satisfied: pyyaml in c:\\3itf\\deep learning\\project\\deep-learning_lah\\project_env\\lib\\site-packages (from fastai) (6.0.2)\n",
      "Requirement already satisfied: fastprogress>=0.2.4 in c:\\3itf\\deep learning\\project\\deep-learning_lah\\project_env\\lib\\site-packages (from fastai) (1.0.3)\n",
      "Requirement already satisfied: pillow>=9.0.0 in c:\\3itf\\deep learning\\project\\deep-learning_lah\\project_env\\lib\\site-packages (from fastai) (10.4.0)\n",
      "Requirement already satisfied: scikit-learn in c:\\3itf\\deep learning\\project\\deep-learning_lah\\project_env\\lib\\site-packages (from fastai) (1.5.2)\n",
      "Requirement already satisfied: scipy in c:\\3itf\\deep learning\\project\\deep-learning_lah\\project_env\\lib\\site-packages (from fastai) (1.14.1)\n",
      "Requirement already satisfied: spacy<4 in c:\\3itf\\deep learning\\project\\deep-learning_lah\\project_env\\lib\\site-packages (from fastai) (3.8.2)\n",
      "Requirement already satisfied: torch<2.5,>=1.10 in c:\\3itf\\deep learning\\project\\deep-learning_lah\\project_env\\lib\\site-packages (from fastai) (2.4.1)\n",
      "Requirement already satisfied: spacy-legacy<3.1.0,>=3.0.11 in c:\\3itf\\deep learning\\project\\deep-learning_lah\\project_env\\lib\\site-packages (from spacy<4->fastai) (3.0.12)\n",
      "Requirement already satisfied: spacy-loggers<2.0.0,>=1.0.0 in c:\\3itf\\deep learning\\project\\deep-learning_lah\\project_env\\lib\\site-packages (from spacy<4->fastai) (1.0.5)\n",
      "Requirement already satisfied: murmurhash<1.1.0,>=0.28.0 in c:\\3itf\\deep learning\\project\\deep-learning_lah\\project_env\\lib\\site-packages (from spacy<4->fastai) (1.0.10)\n",
      "Requirement already satisfied: cymem<2.1.0,>=2.0.2 in c:\\3itf\\deep learning\\project\\deep-learning_lah\\project_env\\lib\\site-packages (from spacy<4->fastai) (2.0.8)\n",
      "Requirement already satisfied: preshed<3.1.0,>=3.0.2 in c:\\3itf\\deep learning\\project\\deep-learning_lah\\project_env\\lib\\site-packages (from spacy<4->fastai) (3.0.9)\n",
      "Requirement already satisfied: thinc<8.4.0,>=8.3.0 in c:\\3itf\\deep learning\\project\\deep-learning_lah\\project_env\\lib\\site-packages (from spacy<4->fastai) (8.3.2)\n",
      "Requirement already satisfied: wasabi<1.2.0,>=0.9.1 in c:\\3itf\\deep learning\\project\\deep-learning_lah\\project_env\\lib\\site-packages (from spacy<4->fastai) (1.1.3)\n",
      "Requirement already satisfied: srsly<3.0.0,>=2.4.3 in c:\\3itf\\deep learning\\project\\deep-learning_lah\\project_env\\lib\\site-packages (from spacy<4->fastai) (2.4.8)\n",
      "Requirement already satisfied: catalogue<2.1.0,>=2.0.6 in c:\\3itf\\deep learning\\project\\deep-learning_lah\\project_env\\lib\\site-packages (from spacy<4->fastai) (2.0.10)\n",
      "Requirement already satisfied: weasel<0.5.0,>=0.1.0 in c:\\3itf\\deep learning\\project\\deep-learning_lah\\project_env\\lib\\site-packages (from spacy<4->fastai) (0.4.1)\n",
      "Requirement already satisfied: typer<1.0.0,>=0.3.0 in c:\\3itf\\deep learning\\project\\deep-learning_lah\\project_env\\lib\\site-packages (from spacy<4->fastai) (0.12.5)\n",
      "Requirement already satisfied: tqdm<5.0.0,>=4.38.0 in c:\\3itf\\deep learning\\project\\deep-learning_lah\\project_env\\lib\\site-packages (from spacy<4->fastai) (4.66.5)\n",
      "Requirement already satisfied: pydantic!=1.8,!=1.8.1,<3.0.0,>=1.7.4 in c:\\3itf\\deep learning\\project\\deep-learning_lah\\project_env\\lib\\site-packages (from spacy<4->fastai) (2.9.2)\n",
      "Requirement already satisfied: jinja2 in c:\\3itf\\deep learning\\project\\deep-learning_lah\\project_env\\lib\\site-packages (from spacy<4->fastai) (3.1.4)\n",
      "Requirement already satisfied: setuptools in c:\\3itf\\deep learning\\project\\deep-learning_lah\\project_env\\lib\\site-packages (from spacy<4->fastai) (65.5.0)\n",
      "Requirement already satisfied: langcodes<4.0.0,>=3.2.0 in c:\\3itf\\deep learning\\project\\deep-learning_lah\\project_env\\lib\\site-packages (from spacy<4->fastai) (3.4.1)\n",
      "Requirement already satisfied: numpy>=1.19.0 in c:\\3itf\\deep learning\\project\\deep-learning_lah\\project_env\\lib\\site-packages (from spacy<4->fastai) (2.0.2)\n",
      "Requirement already satisfied: charset-normalizer<4,>=2 in c:\\3itf\\deep learning\\project\\deep-learning_lah\\project_env\\lib\\site-packages (from requests->fastai) (3.3.2)\n",
      "Requirement already satisfied: idna<4,>=2.5 in c:\\3itf\\deep learning\\project\\deep-learning_lah\\project_env\\lib\\site-packages (from requests->fastai) (3.10)\n",
      "Requirement already satisfied: urllib3<3,>=1.21.1 in c:\\3itf\\deep learning\\project\\deep-learning_lah\\project_env\\lib\\site-packages (from requests->fastai) (2.2.3)\n",
      "Requirement already satisfied: certifi>=2017.4.17 in c:\\3itf\\deep learning\\project\\deep-learning_lah\\project_env\\lib\\site-packages (from requests->fastai) (2024.8.30)\n",
      "Requirement already satisfied: filelock in c:\\3itf\\deep learning\\project\\deep-learning_lah\\project_env\\lib\\site-packages (from torch<2.5,>=1.10->fastai) (3.16.1)\n",
      "Requirement already satisfied: typing-extensions>=4.8.0 in c:\\3itf\\deep learning\\project\\deep-learning_lah\\project_env\\lib\\site-packages (from torch<2.5,>=1.10->fastai) (4.12.2)\n",
      "Requirement already satisfied: sympy in c:\\3itf\\deep learning\\project\\deep-learning_lah\\project_env\\lib\\site-packages (from torch<2.5,>=1.10->fastai) (1.13.3)\n",
      "Requirement already satisfied: networkx in c:\\3itf\\deep learning\\project\\deep-learning_lah\\project_env\\lib\\site-packages (from torch<2.5,>=1.10->fastai) (3.3)\n",
      "Requirement already satisfied: fsspec in c:\\3itf\\deep learning\\project\\deep-learning_lah\\project_env\\lib\\site-packages (from torch<2.5,>=1.10->fastai) (2024.6.1)\n",
      "Requirement already satisfied: contourpy>=1.0.1 in c:\\3itf\\deep learning\\project\\deep-learning_lah\\project_env\\lib\\site-packages (from matplotlib->fastai) (1.3.0)\n",
      "Requirement already satisfied: cycler>=0.10 in c:\\3itf\\deep learning\\project\\deep-learning_lah\\project_env\\lib\\site-packages (from matplotlib->fastai) (0.12.1)\n",
      "Requirement already satisfied: fonttools>=4.22.0 in c:\\3itf\\deep learning\\project\\deep-learning_lah\\project_env\\lib\\site-packages (from matplotlib->fastai) (4.54.0)\n",
      "Requirement already satisfied: kiwisolver>=1.3.1 in c:\\3itf\\deep learning\\project\\deep-learning_lah\\project_env\\lib\\site-packages (from matplotlib->fastai) (1.4.7)\n",
      "Requirement already satisfied: pyparsing>=2.3.1 in c:\\3itf\\deep learning\\project\\deep-learning_lah\\project_env\\lib\\site-packages (from matplotlib->fastai) (3.1.4)\n",
      "Requirement already satisfied: python-dateutil>=2.7 in c:\\3itf\\deep learning\\project\\deep-learning_lah\\project_env\\lib\\site-packages (from matplotlib->fastai) (2.9.0.post0)\n",
      "Requirement already satisfied: pytz>=2020.1 in c:\\3itf\\deep learning\\project\\deep-learning_lah\\project_env\\lib\\site-packages (from pandas->fastai) (2024.2)\n",
      "Requirement already satisfied: tzdata>=2022.7 in c:\\3itf\\deep learning\\project\\deep-learning_lah\\project_env\\lib\\site-packages (from pandas->fastai) (2024.1)\n",
      "Requirement already satisfied: joblib>=1.2.0 in c:\\3itf\\deep learning\\project\\deep-learning_lah\\project_env\\lib\\site-packages (from scikit-learn->fastai) (1.4.2)\n",
      "Requirement already satisfied: threadpoolctl>=3.1.0 in c:\\3itf\\deep learning\\project\\deep-learning_lah\\project_env\\lib\\site-packages (from scikit-learn->fastai) (3.5.0)\n",
      "Requirement already satisfied: language-data>=1.2 in c:\\3itf\\deep learning\\project\\deep-learning_lah\\project_env\\lib\\site-packages (from langcodes<4.0.0,>=3.2.0->spacy<4->fastai) (1.2.0)\n",
      "Requirement already satisfied: annotated-types>=0.6.0 in c:\\3itf\\deep learning\\project\\deep-learning_lah\\project_env\\lib\\site-packages (from pydantic!=1.8,!=1.8.1,<3.0.0,>=1.7.4->spacy<4->fastai) (0.7.0)\n",
      "Requirement already satisfied: pydantic-core==2.23.4 in c:\\3itf\\deep learning\\project\\deep-learning_lah\\project_env\\lib\\site-packages (from pydantic!=1.8,!=1.8.1,<3.0.0,>=1.7.4->spacy<4->fastai) (2.23.4)\n",
      "Requirement already satisfied: six>=1.5 in c:\\3itf\\deep learning\\project\\deep-learning_lah\\project_env\\lib\\site-packages (from python-dateutil>=2.7->matplotlib->fastai) (1.16.0)\n",
      "Requirement already satisfied: blis<1.1.0,>=1.0.0 in c:\\3itf\\deep learning\\project\\deep-learning_lah\\project_env\\lib\\site-packages (from thinc<8.4.0,>=8.3.0->spacy<4->fastai) (1.0.1)\n",
      "Requirement already satisfied: confection<1.0.0,>=0.0.1 in c:\\3itf\\deep learning\\project\\deep-learning_lah\\project_env\\lib\\site-packages (from thinc<8.4.0,>=8.3.0->spacy<4->fastai) (0.1.5)\n",
      "Requirement already satisfied: colorama in c:\\3itf\\deep learning\\project\\deep-learning_lah\\project_env\\lib\\site-packages (from tqdm<5.0.0,>=4.38.0->spacy<4->fastai) (0.4.6)\n",
      "Requirement already satisfied: click>=8.0.0 in c:\\3itf\\deep learning\\project\\deep-learning_lah\\project_env\\lib\\site-packages (from typer<1.0.0,>=0.3.0->spacy<4->fastai) (8.1.7)\n",
      "Requirement already satisfied: shellingham>=1.3.0 in c:\\3itf\\deep learning\\project\\deep-learning_lah\\project_env\\lib\\site-packages (from typer<1.0.0,>=0.3.0->spacy<4->fastai) (1.5.4)\n",
      "Requirement already satisfied: rich>=10.11.0 in c:\\3itf\\deep learning\\project\\deep-learning_lah\\project_env\\lib\\site-packages (from typer<1.0.0,>=0.3.0->spacy<4->fastai) (13.8.1)\n",
      "Requirement already satisfied: cloudpathlib<1.0.0,>=0.7.0 in c:\\3itf\\deep learning\\project\\deep-learning_lah\\project_env\\lib\\site-packages (from weasel<0.5.0,>=0.1.0->spacy<4->fastai) (0.19.0)\n",
      "Requirement already satisfied: smart-open<8.0.0,>=5.2.1 in c:\\3itf\\deep learning\\project\\deep-learning_lah\\project_env\\lib\\site-packages (from weasel<0.5.0,>=0.1.0->spacy<4->fastai) (7.0.5)\n",
      "Requirement already satisfied: MarkupSafe>=2.0 in c:\\3itf\\deep learning\\project\\deep-learning_lah\\project_env\\lib\\site-packages (from jinja2->spacy<4->fastai) (2.1.5)\n",
      "Requirement already satisfied: mpmath<1.4,>=1.1.0 in c:\\3itf\\deep learning\\project\\deep-learning_lah\\project_env\\lib\\site-packages (from sympy->torch<2.5,>=1.10->fastai) (1.3.0)\n",
      "Requirement already satisfied: marisa-trie>=0.7.7 in c:\\3itf\\deep learning\\project\\deep-learning_lah\\project_env\\lib\\site-packages (from language-data>=1.2->langcodes<4.0.0,>=3.2.0->spacy<4->fastai) (1.2.0)\n",
      "Requirement already satisfied: markdown-it-py>=2.2.0 in c:\\3itf\\deep learning\\project\\deep-learning_lah\\project_env\\lib\\site-packages (from rich>=10.11.0->typer<1.0.0,>=0.3.0->spacy<4->fastai) (3.0.0)\n",
      "Requirement already satisfied: pygments<3.0.0,>=2.13.0 in c:\\3itf\\deep learning\\project\\deep-learning_lah\\project_env\\lib\\site-packages (from rich>=10.11.0->typer<1.0.0,>=0.3.0->spacy<4->fastai) (2.18.0)\n",
      "Requirement already satisfied: wrapt in c:\\3itf\\deep learning\\project\\deep-learning_lah\\project_env\\lib\\site-packages (from smart-open<8.0.0,>=5.2.1->weasel<0.5.0,>=0.1.0->spacy<4->fastai) (1.16.0)\n",
      "Requirement already satisfied: mdurl~=0.1 in c:\\3itf\\deep learning\\project\\deep-learning_lah\\project_env\\lib\\site-packages (from markdown-it-py>=2.2.0->rich>=10.11.0->typer<1.0.0,>=0.3.0->spacy<4->fastai) (0.1.2)\n",
      "Note: you may need to restart the kernel to use updated packages.\n"
     ]
    },
    {
     "name": "stderr",
     "output_type": "stream",
     "text": [
      "\n",
      "[notice] A new release of pip available: 22.3 -> 24.2\n",
      "[notice] To update, run: python.exe -m pip install --upgrade pip\n"
     ]
    },
    {
     "name": "stdout",
     "output_type": "stream",
     "text": [
      "Requirement already satisfied: torch in c:\\3itf\\deep learning\\project\\deep-learning_lah\\project_env\\lib\\site-packages (2.4.1)\n",
      "Requirement already satisfied: torchvision in c:\\3itf\\deep learning\\project\\deep-learning_lah\\project_env\\lib\\site-packages (0.19.1)\n",
      "Collecting torchaudio\n",
      "  Downloading torchaudio-2.4.1-cp311-cp311-win_amd64.whl (2.4 MB)\n",
      "     ---------------------------------------- 2.4/2.4 MB 10.2 MB/s eta 0:00:00\n",
      "Requirement already satisfied: filelock in c:\\3itf\\deep learning\\project\\deep-learning_lah\\project_env\\lib\\site-packages (from torch) (3.16.1)\n",
      "Requirement already satisfied: typing-extensions>=4.8.0 in c:\\3itf\\deep learning\\project\\deep-learning_lah\\project_env\\lib\\site-packages (from torch) (4.12.2)\n",
      "Requirement already satisfied: sympy in c:\\3itf\\deep learning\\project\\deep-learning_lah\\project_env\\lib\\site-packages (from torch) (1.13.3)\n",
      "Requirement already satisfied: networkx in c:\\3itf\\deep learning\\project\\deep-learning_lah\\project_env\\lib\\site-packages (from torch) (3.3)\n",
      "Requirement already satisfied: jinja2 in c:\\3itf\\deep learning\\project\\deep-learning_lah\\project_env\\lib\\site-packages (from torch) (3.1.4)\n",
      "Requirement already satisfied: fsspec in c:\\3itf\\deep learning\\project\\deep-learning_lah\\project_env\\lib\\site-packages (from torch) (2024.6.1)\n",
      "Requirement already satisfied: numpy in c:\\3itf\\deep learning\\project\\deep-learning_lah\\project_env\\lib\\site-packages (from torchvision) (2.0.2)\n",
      "Requirement already satisfied: pillow!=8.3.*,>=5.3.0 in c:\\3itf\\deep learning\\project\\deep-learning_lah\\project_env\\lib\\site-packages (from torchvision) (10.4.0)\n",
      "Requirement already satisfied: MarkupSafe>=2.0 in c:\\3itf\\deep learning\\project\\deep-learning_lah\\project_env\\lib\\site-packages (from jinja2->torch) (2.1.5)\n",
      "Requirement already satisfied: mpmath<1.4,>=1.1.0 in c:\\3itf\\deep learning\\project\\deep-learning_lah\\project_env\\lib\\site-packages (from sympy->torch) (1.3.0)\n",
      "Installing collected packages: torchaudio\n",
      "Successfully installed torchaudio-2.4.1\n",
      "Note: you may need to restart the kernel to use updated packages.\n"
     ]
    },
    {
     "name": "stderr",
     "output_type": "stream",
     "text": [
      "\n",
      "[notice] A new release of pip available: 22.3 -> 24.2\n",
      "[notice] To update, run: python.exe -m pip install --upgrade pip\n"
     ]
    }
   ],
   "source": [
    "%pip install fastai\n",
    "%pip install torch torchvision torchaudio\n"
   ]
  },
  {
   "cell_type": "code",
   "execution_count": null,
   "metadata": {},
   "outputs": [],
   "source": [
    "from fastai.vision.all import *\n",
    "import pathlib\n",
    "\n",
    "# Stel het pad in naar je afbeeldingen\n",
    "data_dir = pathlib.Path(\"/Screenshots\")\n",
    "\n",
    "# DataBlock voor het verwerken van afbeeldingen\n",
    "dblock = DataBlock(\n",
    "    blocks=(ImageBlock, CategoryBlock),  # We classificeren afbeeldingen\n",
    "    get_items=get_image_files,           # Alle afbeeldingsbestanden ophalen\n",
    "    splitter=RandomSplitter(valid_pct=0.2, seed=123),  # 20% voor validatie\n",
    "    get_y=parent_label,                  # Labels worden gebaseerd op mappenamen\n",
    "    item_tfms=Resize(180),               # Afbeeldingen worden geschaald naar 180x180\n",
    "    batch_tfms=aug_transforms(size=180)  # Basisaugmentatie en schaling\n",
    ")\n",
    "\n",
    "# Maak een DataLoaders object\n",
    "dls = dblock.dataloaders(data_dir, bs=32)\n",
    "\n",
    "# Het model trainen met een vooraf getrainde ResNet-architectuur\n",
    "learn = cnn_learner(dls, resnet18, metrics=accuracy)\n",
    "\n",
    "# Samenvatting van het model\n",
    "learn.model\n",
    "\n",
    "# Optionele callback voor vroegtijdig stoppen\n",
    "early_stopping_cb = EarlyStoppingCallback(monitor='valid_loss', patience=8)\n",
    "\n",
    "# Train het model\n",
    "learn.fit_one_cycle(20, cbs=[early_stopping_cb])\n",
    "\n",
    "# Bewaar het getrainde model\n",
    "learn.export('ad-model.h5')\n"
   ]
  }
 ],
 "metadata": {
  "kernelspec": {
   "display_name": "project_env",
   "language": "python",
   "name": "python3"
  },
  "language_info": {
   "codemirror_mode": {
    "name": "ipython",
    "version": 3
   },
   "file_extension": ".py",
   "mimetype": "text/x-python",
   "name": "python",
   "nbconvert_exporter": "python",
   "pygments_lexer": "ipython3",
   "version": "3.11.0"
  }
 },
 "nbformat": 4,
 "nbformat_minor": 2
}
