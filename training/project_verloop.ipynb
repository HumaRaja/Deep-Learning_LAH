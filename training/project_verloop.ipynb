{
 "cells": [
  {
   "cell_type": "markdown",
   "metadata": {},
   "source": [
    "<font color=\"cyan\">We hebben track Mania gekozen voor ons project. We zijn begonnen met een script te schrijven om screenshots te nemen. Dit hebben we gedaan door een library te installeren die keys kon detecteren en dan kreeg de screen een naam met een timestamp. Sommige screens waren van een half scherm en sommige van een heel. Daarna is er een model gemaakt en getrained dat door middel van een library key commands naar track mania stuurde. Dit model reed alleen maar rechtdoor, maar het reed wel</font>"
   ]
  },
  {
   "cell_type": "markdown",
   "metadata": {},
   "source": [
    "<font color=\"cyan\">De volgende stap was het model verbeteren met meer data en de foto's anders te noemen. We hebben ze in folders gestoken afgaand op het key command en ze dan genummerd, bv: d1.jpg. Met de transfer learning kon het model al met moeite door de bocht geraken. De volgende stap was het croppen van de images om te zorgen dat het model niet naar de banden van de auto keek. Hier hadden we nog steeds dezelfde output. </font>"
   ]
  },
  {
   "cell_type": "markdown",
   "metadata": {},
   "source": [
    "<font color=\"cyan\">Omdat de auto steeds crashte en niet weg geraakte of door puur geluk verder hobbelde, hebben we crash data toegevoegd met het juiste key command om weg te geraken.</font>"
   ]
  },
  {
   "cell_type": "markdown",
   "metadata": {},
   "source": [
    "<font color=\"cyan\">ROI gebruiken om te focussen op de weg. Resnet32 gebruiken zonder imagenet. De Z naar beneden halen. Chanege 5 keer na elkaar doen zodat hij juist draait</font>"
   ]
  }
 ],
 "metadata": {
  "language_info": {
   "name": "python"
  }
 },
 "nbformat": 4,
 "nbformat_minor": 2
}
